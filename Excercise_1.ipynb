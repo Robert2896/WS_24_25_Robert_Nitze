{
 "cells": [
  {
   "cell_type": "markdown",
   "metadata": {},
   "source": [
    "# Excercise_1:"
   ]
  },
  {
   "cell_type": "code",
   "execution_count": 4,
   "metadata": {},
   "outputs": [
    {
     "name": "stdout",
     "output_type": "stream",
     "text": [
      "['Robin', 'Singh']\n",
      "['CodeWars']\n",
      "['I', 'love', 'arrays', 'they', 'are', 'my', 'favorite']\n",
      "['1', '2', '3']\n",
      "[]\n"
     ]
    }
   ],
   "source": [
    "# NOTE! \"pass\" is a keyword for an empty function. It tells the compiler that it is not an error if a function is empty\n",
    "# https://docs.python.org/3/library/stdtypes.html#str.split\n",
    "def string_to_array(your_string):\n",
    "    return your_string.split()\n",
    "print(string_to_array(\"Robin Singh\"))\n",
    "print(string_to_array(\"CodeWars\"))\n",
    "print(string_to_array(\"I love arrays they are my favorite\"))\n",
    "print(string_to_array(\"1 2 3\"))\n",
    "print(string_to_array(\"\"))"
   ]
  }
 ],
 "metadata": {
  "kernelspec": {
   "display_name": "Python 3",
   "language": "python",
   "name": "python3"
  },
  "language_info": {
   "codemirror_mode": {
    "name": "ipython",
    "version": 3
   },
   "file_extension": ".py",
   "mimetype": "text/x-python",
   "name": "python",
   "nbconvert_exporter": "python",
   "pygments_lexer": "ipython3",
   "version": "3.11.9"
  }
 },
 "nbformat": 4,
 "nbformat_minor": 2
}

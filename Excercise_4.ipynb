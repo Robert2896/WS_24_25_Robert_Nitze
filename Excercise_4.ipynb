{
 "cells": [
  {
   "cell_type": "markdown",
   "metadata": {},
   "source": [
    "# Exercice 4\n",
    "Who remembers back to their time in the schoolyard, when you would take a flower and tear its petals, saying each of the following phrases each time a petal was torn:\n",
    "\n",
    "`\n",
    "I like you\n",
    "a little\n",
    "a lot\n",
    "passionately\n",
    "madly\n",
    "not at all\n",
    "`\n",
    "\n",
    "When the last petal was torn there were cries of excitement, dreams, surging thoughts and emotions.\n",
    "\n",
    "\n",
    "Your goal is to determine which phrase you would say for a flower of a given number of petals, where **nb_petals > 0**.\n",
    "\n",
    "Examples: \n",
    "\n",
    "```python\n",
    "how_much_i_like_you(7)         # Output: \"I like you\"\n",
    "how_much_i_like_you(2)         # Output: \"a little\"\n",
    "how_much_i_like_you(5)         # Output: \"madly\"\n",
    "how_much_i_like_you(9)         # Output: \"a lot\"\n",
    "```\n",
    "\n",
    "\n"
   ]
  },
  {
   "cell_type": "code",
   "execution_count": 11,
   "metadata": {},
   "outputs": [
    {
     "name": "stdout",
     "output_type": "stream",
     "text": [
      "I like you\n",
      "a little\n",
      "madly\n",
      "a lot\n"
     ]
    }
   ],
   "source": [
    "def how_much_i_like_you(nb_petals):\n",
    "    if nb_petals == 7:\n",
    "        return \"I like you\"\n",
    "    elif nb_petals == 2:\n",
    "        return \"a little\"\n",
    "    elif nb_petals == 5:\n",
    "        return \"madly\"\n",
    "    elif nb_petals == 9:\n",
    "        return \"a lot\"\n",
    "    else:\n",
    "        return None   \n",
    "      \n",
    "print(how_much_i_like_you(7))\n",
    "print(how_much_i_like_you(2))\n",
    "print(how_much_i_like_you(5))\n",
    "print(how_much_i_like_you(9))"
   ]
  }
 ],
 "metadata": {
  "kernelspec": {
   "display_name": "Python 3",
   "language": "python",
   "name": "python3"
  },
  "language_info": {
   "codemirror_mode": {
    "name": "ipython",
    "version": 3
   },
   "file_extension": ".py",
   "mimetype": "text/x-python",
   "name": "python",
   "nbconvert_exporter": "python",
   "pygments_lexer": "ipython3",
   "version": "3.11.9"
  }
 },
 "nbformat": 4,
 "nbformat_minor": 2
}

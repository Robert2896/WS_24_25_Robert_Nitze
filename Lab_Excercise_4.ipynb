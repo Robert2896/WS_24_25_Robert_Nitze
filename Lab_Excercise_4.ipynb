{
 "cells": [
  {
   "cell_type": "markdown",
   "metadata": {},
   "source": [
    "# Exercise 4\n",
    "Two tortoises named A and B must run a race. A starts with an average speed of 720 feet per hour. Young B knows she runs faster than A, and furthermore has not finished her cabbage.\n",
    "\n",
    "When she starts, at last, she can see that A has a 70 feet lead but B's speed is 850 feet per hour. How long will it take B to catch A?\n",
    "\n",
    "More generally: given two speeds v1 (A's speed, integer > 0) and v2 (B's speed, integer > 0) and a lead g (integer > 0) how long will it take B to catch A?\n",
    "\n",
    "\n",
    "The result will be an array [hour, min, sec] which is the time needed in hours, minutes and seconds (round down to the nearest second) or a string in some languages.\n",
    "\n",
    "\n",
    "If v1 >= v2 then return None. \n",
    "\n",
    "Examples:\n",
    "\n",
    "```python\n",
    "race(720, 850, 70) => [0, 32, 18] \n",
    "race(80, 91, 37)   => [3, 21, 49] \n",
    "race(80, 100, 40) =>  [2, 0, 0]\n",
    "\n",
    "\n",
    "```\n",
    "\n",
    "\n",
    "Note:\n",
    "See other examples in \"Your test cases\".\n",
    "\n",
    "** Hints for people who don't know how to convert to hours, minutes, seconds:\n",
    "\n",
    ". Tortoises don't care about fractions of seconds\n",
    "\n",
    ". Think of calculation by hand using only integers (in your code use or simulate integer division)\n",
    "      . or Google: \"convert decimal time to hours minutes seconds\"\n"
   ]
  },
  {
   "cell_type": "code",
   "execution_count": 16,
   "metadata": {},
   "outputs": [
    {
     "name": "stdout",
     "output_type": "stream",
     "text": [
      "[0, 32, 18]\n",
      "[3, 21, 49]\n",
      "[2, 0, 0]\n"
     ]
    }
   ],
   "source": [
    "def race(v1, v2, g):\n",
    "    if v1 >= v2:\n",
    "        return None\n",
    "    \n",
    "    time = g / (v2 - v1)\n",
    "\n",
    "    hours = int(time)\n",
    "    minutes = int((time - hours) * 60) \n",
    "    seconds = int((time - hours - minutes / 60) * 3600)\n",
    "    \n",
    "    return [hours, minutes, seconds]\n",
    "\n",
    "print(race(720, 850, 70))\n",
    "print(race(80, 91, 37))\n",
    "print(race(80, 100, 40))    "
   ]
  },
  {
   "cell_type": "code",
   "execution_count": null,
   "metadata": {},
   "outputs": [],
   "source": [
    "# Basic Tests\n",
    "print(assert_equals(race(720, 850, 70), [0, 32, 18]))\n",
    "print(assert_equals(race(80, 91, 37), [3, 21, 49]))\n",
    "print(assert_equals(race(80, 100, 40),  [2, 0, 0]))\n"
   ]
  }
 ],
 "metadata": {
  "kernelspec": {
   "display_name": "Python 3",
   "language": "python",
   "name": "python3"
  },
  "language_info": {
   "codemirror_mode": {
    "name": "ipython",
    "version": 3
   },
   "file_extension": ".py",
   "mimetype": "text/x-python",
   "name": "python",
   "nbconvert_exporter": "python",
   "pygments_lexer": "ipython3",
   "version": "3.11.9"
  }
 },
 "nbformat": 4,
 "nbformat_minor": 2
}

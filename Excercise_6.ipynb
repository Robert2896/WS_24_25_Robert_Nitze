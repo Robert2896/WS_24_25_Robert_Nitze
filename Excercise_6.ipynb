{
 "cells": [
  {
   "cell_type": "markdown",
   "metadata": {},
   "source": [
    "# Exercice 6 \n",
    "You are given an input string.\n",
    "\n",
    "For each symbol in the string if it's the first character occurence, replace it with a '1', else replace it with the amount of times you've already seen it...\n",
    "\n",
    "Examples: \n",
    "\n",
    "```python\n",
    "input   =  \"Hello, World!\"\n",
    "result  =  \"1112111121311\"\n",
    "\n",
    "input   =  \"aaaaaaaaaaaa\"\n",
    "result  =  \"123456789101112\"\n",
    "```\n",
    "\n",
    "Test your code with the following strings\n",
    "\n",
    "`\n",
    "numericals(\"Hello, World!\")  should return  \"1112111121311\"\n",
    "numericals(\"Hello, World! It's me, JomoPipi!\") should return \"11121111213112111131224132411122\"\n",
    "numericals(\"hello hello\") should return  \"11121122342\"\n",
    "numericals(\"Hello\") should return \"11121\"\n",
    "numericals(\"aaaaaaaaaaaa\") should return \"123456789101112\"\n",
    "`"
   ]
  },
  {
   "cell_type": "code",
   "execution_count": 17,
   "metadata": {},
   "outputs": [
    {
     "name": "stdout",
     "output_type": "stream",
     "text": [
      "1112111121311\n",
      "123456789101112\n"
     ]
    }
   ],
   "source": [
    "def numericals(your_str):\n",
    "    result = []\n",
    "    dict_seen ={}\n",
    "    for letter in your_str:\n",
    "        if letter in dict_seen:\n",
    "            dict_seen[letter] += 1\n",
    "        else:\n",
    "            dict_seen[letter] = 1\n",
    "        result.append(str(dict_seen[letter]))           \n",
    "    return ''.join(result)\n",
    "print(numericals(\"Hello, World!\"))\n",
    "print(numericals(\"aaaaaaaaaaaa\"))   "
   ]
  }
 ],
 "metadata": {
  "kernelspec": {
   "display_name": "Python 3",
   "language": "python",
   "name": "python3"
  },
  "language_info": {
   "codemirror_mode": {
    "name": "ipython",
    "version": 3
   },
   "file_extension": ".py",
   "mimetype": "text/x-python",
   "name": "python",
   "nbconvert_exporter": "python",
   "pygments_lexer": "ipython3",
   "version": "3.11.9"
  }
 },
 "nbformat": 4,
 "nbformat_minor": 2
}

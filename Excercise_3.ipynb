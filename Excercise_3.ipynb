{
 "cells": [
  {
   "cell_type": "markdown",
   "metadata": {},
   "source": [
    "# Exercice 3\n",
    "Your task is to create a function that does four basic mathematical operations.\n",
    "\n",
    "The function should take three arguments - \n",
    "\n",
    "operation(string/char), \n",
    "\n",
    "value1(number), \n",
    "\n",
    "value2(number).\n",
    "\n",
    "The function should return result of numbers after applying the chosen operation.\n",
    "\n",
    "Examples\n",
    "```python\n",
    "basic_op('+', 4, 7)         # Output: 11\n",
    "basic_op('-', 15, 18)       # Output: -3\n",
    "basic_op('*', 5, 5)         # Output: 25\n",
    "basic_op('/', 49, 7)        # Output: 7\n",
    "```"
   ]
  },
  {
   "cell_type": "code",
   "execution_count": 3,
   "metadata": {},
   "outputs": [
    {
     "name": "stdout",
     "output_type": "stream",
     "text": [
      "11\n"
     ]
    }
   ],
   "source": [
    "def basic_op(operator, value1, value2):\n",
    "    if operator == '+':\n",
    "        return value1 + value2\n",
    "    elif operator == '-':\n",
    "        return value1 - value2\n",
    "    elif operator == '*':\n",
    "        return value1 * value2\n",
    "    elif operator == '/':\n",
    "        return value1 / value2\n",
    "    else:\n",
    "        return None\n",
    "    pass\n",
    "\n",
    "print(basic_op('+', 4, 7))"
   ]
  }
 ],
 "metadata": {
  "kernelspec": {
   "display_name": "Python 3",
   "language": "python",
   "name": "python3"
  },
  "language_info": {
   "codemirror_mode": {
    "name": "ipython",
    "version": 3
   },
   "file_extension": ".py",
   "mimetype": "text/x-python",
   "name": "python",
   "nbconvert_exporter": "python",
   "pygments_lexer": "ipython3",
   "version": "3.11.9"
  }
 },
 "nbformat": 4,
 "nbformat_minor": 2
}

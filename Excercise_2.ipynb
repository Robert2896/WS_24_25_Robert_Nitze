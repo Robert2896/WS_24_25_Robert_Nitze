{
 "cells": [
  {
   "cell_type": "markdown",
   "metadata": {},
   "source": [
    "# Exercice 2: \n",
    "\n",
    "Usually when you buy something, you're asked whether your credit card number, phone number or answer to your most secret question is still correct. However, since someone could look over your shoulder, you don't want that shown on your screen. Instead, we mask it.\n",
    "\n",
    "Your task is to write a function called **maskify**, which changes all but the last four characters into '#' and return the value as a string (str).\n",
    "\n",
    "Output example: \n",
    "\"What was the name of your first pet?\"\n",
    "\n",
    "```python \n",
    "maskify(\"Skippy\")                                   == \"##ippy\"\n",
    "maskify(\"Nananananananananananananananana Batman!\") == \"####################################man!\"\n",
    "```\n",
    "\n",
    "### check your answer with the following strings \n",
    "```python \n",
    "maskify(\"4556364607935616\") == \"############5616\"\n",
    "maskify(     \"64607935616\") ==      \"#######5616\"\n",
    "maskify(               \"1\") ==                \"1\"\n",
    "maskify(                \"\") ==                 \"\"\n",
    "```\n",
    "\n",
    "\n"
   ]
  },
  {
   "cell_type": "code",
   "execution_count": 15,
   "metadata": {},
   "outputs": [
    {
     "name": "stdout",
     "output_type": "stream",
     "text": [
      "############5616\n",
      "#######5616\n",
      "1\n",
      "\n",
      "##ippy\n"
     ]
    }
   ],
   "source": [
    "def maskify(your_str):\n",
    "    return \"#\"*(len(your_str)-4) + your_str[-4:]\n",
    "print(maskify(\"4556364607935616\")) \n",
    "print(maskify(\"64607935616\")) \n",
    "print(maskify(\"1\")) \n",
    "print(maskify(\"\"))\n",
    "print(maskify(\"Skippy\"))"
   ]
  }
 ],
 "metadata": {
  "kernelspec": {
   "display_name": "Python 3",
   "language": "python",
   "name": "python3"
  },
  "language_info": {
   "codemirror_mode": {
    "name": "ipython",
    "version": 3
   },
   "file_extension": ".py",
   "mimetype": "text/x-python",
   "name": "python",
   "nbconvert_exporter": "python",
   "pygments_lexer": "ipython3",
   "version": "3.11.9"
  }
 },
 "nbformat": 4,
 "nbformat_minor": 2
}
